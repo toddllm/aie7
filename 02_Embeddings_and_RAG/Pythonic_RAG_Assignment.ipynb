{
 "cells": [
  {
   "cell_type": "markdown",
   "metadata": {
    "id": "lElF3o5PR6ys"
   },
   "source": [
    "# Your First RAG Application\n",
    "\n",
    "In this notebook, we'll walk you through each of the components that are involved in a simple RAG application.\n",
    "\n",
    "We won't be leveraging any fancy tools, just the OpenAI Python SDK, Numpy, and some classic Python.\n",
    "\n",
    "> NOTE: This was done with Python 3.11.4.\n",
    "\n",
    "> NOTE: There might be [compatibility issues](https://github.com/wandb/wandb/issues/7683) if you're on NVIDIA driver >552.44 As an interim solution - you can rollback your drivers to the 552.44."
   ]
  },
  {
   "cell_type": "markdown",
   "metadata": {
    "id": "5CtcL8P8R6yt"
   },
   "source": [
    "## Table of Contents:\n",
    "\n",
    "- Task 1: Imports and Utilities\n",
    "- Task 2: Documents\n",
    "- Task 3: Embeddings and Vectors\n",
    "- Task 4: Prompts\n",
    "- Task 5: Retrieval Augmented Generation\n",
    "  - 🚧 Activity #1: Augment RAG"
   ]
  },
  {
   "cell_type": "markdown",
   "metadata": {
    "id": "1Dz6GYilR6yt"
   },
   "source": [
    "Let's look at a rather complicated looking visual representation of a basic RAG application.\n",
    "\n",
    "<img src=\"https://i.imgur.com/vD8b016.png\" />"
   ]
  },
  {
   "cell_type": "markdown",
   "metadata": {
    "id": "PjmC0KFtR6yt"
   },
   "source": [
    "## Task 1: Imports and Utility\n",
    "\n",
    "We're just doing some imports and enabling `async` to work within the Jupyter environment here, nothing too crazy!"
   ]
  },
  {
   "cell_type": "code",
   "execution_count": 25,
   "metadata": {
    "id": "Z1dyrG4hR6yt"
   },
   "outputs": [],
   "source": [
    "from aimakerspace.text_utils import TextFileLoader, CharacterTextSplitter\n",
    "from aimakerspace.vectordatabase import VectorDatabase\n",
    "import asyncio"
   ]
  },
  {
   "cell_type": "code",
   "execution_count": 26,
   "metadata": {
    "id": "9OrFZRnER6yt"
   },
   "outputs": [],
   "source": [
    "import nest_asyncio\n",
    "nest_asyncio.apply()"
   ]
  },
  {
   "cell_type": "markdown",
   "metadata": {
    "id": "M0jGnpQsR6yu"
   },
   "source": [
    "## Task 2: Documents\n",
    "\n",
    "We'll be concerning ourselves with this part of the flow in the following section:\n",
    "\n",
    "<img src=\"https://i.imgur.com/jTm9gjk.png\" />"
   ]
  },
  {
   "cell_type": "markdown",
   "metadata": {
    "id": "-SFPWvRUR6yu"
   },
   "source": [
    "### Loading Source Documents\n",
    "\n",
    "So, first things first, we need some documents to work with.\n",
    "\n",
    "While we could work directly with the `.txt` files (or whatever file-types you wanted to extend this to) we can instead do some batch processing of those documents at the beginning in order to store them in a more machine compatible format.\n",
    "\n",
    "In this case, we're going to parse our text file into a single document in memory.\n",
    "\n",
    "Let's look at the relevant bits of the `TextFileLoader` class:\n",
    "\n",
    "```python\n",
    "def load_file(self):\n",
    "        with open(self.path, \"r\", encoding=self.encoding) as f:\n",
    "            self.documents.append(f.read())\n",
    "```\n",
    "\n",
    "We're simply loading the document using the built in `open` method, and storing that output in our `self.documents` list.\n",
    "\n",
    "> NOTE: We're using blogs from PMarca (Marc Andreessen) as our sample data. This data is largely irrelevant as we want to focus on the mechanisms of RAG, which includes out data's shape and quality - but not specifically what the contents of the data are. \n"
   ]
  },
  {
   "cell_type": "code",
   "execution_count": 27,
   "metadata": {
    "colab": {
     "base_uri": "https://localhost:8080/"
    },
    "id": "Ia2sUEuGR6yu",
    "outputId": "84937ecc-c35f-4c4a-a4ab-9da72625954c"
   },
   "outputs": [
    {
     "data": {
      "text/plain": [
       "1"
      ]
     },
     "execution_count": 27,
     "metadata": {},
     "output_type": "execute_result"
    }
   ],
   "source": [
    "text_loader = TextFileLoader(\"data/PMarcaBlogs.txt\")\n",
    "documents = text_loader.load_documents()\n",
    "len(documents)"
   ]
  },
  {
   "cell_type": "code",
   "execution_count": 28,
   "metadata": {
    "colab": {
     "base_uri": "https://localhost:8080/"
    },
    "id": "bV-tj5WFR6yu",
    "outputId": "674eb315-1ff3-4597-bcf5-38ece0a812ac"
   },
   "outputs": [
    {
     "name": "stdout",
     "output_type": "stream",
     "text": [
      "\n",
      "The Pmarca Blog Archives\n",
      "(select posts from 2007-2009)\n",
      "Marc Andreessen\n",
      "copyright: Andreessen Horow\n"
     ]
    }
   ],
   "source": [
    "print(documents[0][:100])"
   ]
  },
  {
   "cell_type": "markdown",
   "metadata": {
    "id": "nHlTvCzYR6yu"
   },
   "source": [
    "### Splitting Text Into Chunks\n",
    "\n",
    "As we can see, there is one massive document.\n",
    "\n",
    "We'll want to chunk the document into smaller parts so it's easier to pass the most relevant snippets to the LLM.\n",
    "\n",
    "There is no fixed way to split/chunk documents - and you'll need to rely on some intuition as well as knowing your data *very* well in order to build the most robust system.\n",
    "\n",
    "For this toy example, we'll just split blindly on length.\n",
    "\n",
    ">There's an opportunity to clear up some terminology here, for this course we will be stick to the following:\n",
    ">\n",
    ">- \"source documents\" : The `.txt`, `.pdf`, `.html`, ..., files that make up the files and information we start with in its raw format\n",
    ">- \"document(s)\" : single (or more) text object(s)\n",
    ">- \"corpus\" : the combination of all of our documents"
   ]
  },
  {
   "cell_type": "markdown",
   "metadata": {
    "id": "2G6Voc0jR6yv"
   },
   "source": [
    "As you can imagine (though it's not specifically true in this toy example) the idea of splitting documents is to break them into managable sized chunks that retain the most relevant local context."
   ]
  },
  {
   "cell_type": "code",
   "execution_count": 29,
   "metadata": {
    "colab": {
     "base_uri": "https://localhost:8080/"
    },
    "id": "UMC4tsEmR6yv",
    "outputId": "08689c0b-57cd-4040-942a-8193e997f5cb"
   },
   "outputs": [
    {
     "data": {
      "text/plain": [
       "373"
      ]
     },
     "execution_count": 29,
     "metadata": {},
     "output_type": "execute_result"
    }
   ],
   "source": [
    "text_splitter = CharacterTextSplitter()\n",
    "split_documents = text_splitter.split_texts(documents)\n",
    "len(split_documents)"
   ]
  },
  {
   "cell_type": "markdown",
   "metadata": {
    "id": "W2wKT0WLR6yv"
   },
   "source": [
    "Let's take a look at some of the documents we've managed to split."
   ]
  },
  {
   "cell_type": "code",
   "execution_count": 30,
   "metadata": {
    "colab": {
     "base_uri": "https://localhost:8080/"
    },
    "id": "vcYMwWJoR6yv",
    "outputId": "20d69876-feca-4826-b4be-32915276987a"
   },
   "outputs": [
    {
     "data": {
      "text/plain": [
       "['\\ufeff\\nThe Pmarca Blog Archives\\n(select posts from 2007-2009)\\nMarc Andreessen\\ncopyright: Andreessen Horowitz\\ncover design: Jessica Hagy\\nproduced using: Pressbooks\\nContents\\nTHE PMARCA GUIDE TO STARTUPS\\nPart 1: Why not to do a startup 2\\nPart 2: When the VCs say \"no\" 10\\nPart 3: \"But I don\\'t know any VCs!\" 18\\nPart 4: The only thing that matters 25\\nPart 5: The Moby Dick theory of big companies 33\\nPart 6: How much funding is too little? Too much? 41\\nPart 7: Why a startup\\'s initial business plan doesn\\'t\\nmatter that much\\n49\\nTHE PMARCA GUIDE TO HIRING\\nPart 8: Hiring, managing, promoting, and Dring\\nexecutives\\n54\\nPart 9: How to hire a professional CEO 68\\nHow to hire the best people you\\'ve ever worked\\nwith\\n69\\nTHE PMARCA GUIDE TO BIG COMPANIES\\nPart 1: Turnaround! 82\\nPart 2: Retaining great people 86\\nTHE PMARCA GUIDE TO CAREER, PRODUCTIVITY,\\nAND SOME OTHER THINGS\\nIntroduction 97\\nPart 1: Opportunity 99\\nPart 2: Skills and education 107\\nPart 3: Where to go and why 120\\nThe Pmarca Guide to Personal Productivi']"
      ]
     },
     "execution_count": 30,
     "metadata": {},
     "output_type": "execute_result"
    }
   ],
   "source": [
    "split_documents[0:1]"
   ]
  },
  {
   "cell_type": "markdown",
   "metadata": {
    "id": "HOU-RFP_R6yv"
   },
   "source": [
    "## Task 3: Embeddings and Vectors\n",
    "\n",
    "Next, we have to convert our corpus into a \"machine readable\" format as we explored in the Embedding Primer notebook.\n",
    "\n",
    "Today, we're going to talk about the actual process of creating, and then storing, these embeddings, and how we can leverage that to intelligently add context to our queries."
   ]
  },
  {
   "cell_type": "markdown",
   "metadata": {},
   "source": [
    "### OpenAI API Key\n",
    "\n",
    "In order to access OpenAI's APIs, we'll need to provide our OpenAI API Key!\n",
    "\n",
    "You can work through the folder \"OpenAI API Key Setup\" for more information on this process if you don't already have an API Key!"
   ]
  },
  {
   "cell_type": "code",
   "execution_count": 31,
   "metadata": {},
   "outputs": [],
   "source": [
    "import os\n",
    "import openai\n",
    "from getpass import getpass\n",
    "\n",
    "openai.api_key = getpass(\"OpenAI API Key: \")\n",
    "os.environ[\"OPENAI_API_KEY\"] = openai.api_key"
   ]
  },
  {
   "cell_type": "markdown",
   "metadata": {},
   "source": [
    "### Vector Database\n",
    "\n",
    "Let's set up our vector database to hold all our documents and their embeddings!"
   ]
  },
  {
   "cell_type": "markdown",
   "metadata": {
    "id": "kDQrfAR1R6yv"
   },
   "source": [
    "While this is all baked into 1 call - we can look at some of the code that powers this process to get a better understanding:\n",
    "\n",
    "Let's look at our `VectorDatabase().__init__()`:\n",
    "\n",
    "```python\n",
    "def __init__(self, embedding_model: EmbeddingModel = None):\n",
    "        self.vectors = defaultdict(np.array)\n",
    "        self.embedding_model = embedding_model or EmbeddingModel()\n",
    "```\n",
    "\n",
    "As you can see - our vectors are merely stored as a dictionary of `np.array` objects.\n",
    "\n",
    "Secondly, our `VectorDatabase()` has a default `EmbeddingModel()` which is a wrapper for OpenAI's `text-embedding-3-small` model.\n",
    "\n",
    "> **Quick Info About `text-embedding-3-small`**:\n",
    "> - It has a context window of **8191** tokens\n",
    "> - It returns vectors with dimension **1536**"
   ]
  },
  {
   "cell_type": "markdown",
   "metadata": {
    "id": "L273pRdeR6yv"
   },
   "source": [
    "#### ❓Question #1:\n",
    "\n",
    "The default embedding dimension of `text-embedding-3-small` is 1536, as noted above. \n",
    "\n",
    "1. Is there any way to modify this dimension?\n",
    "2. What technique does OpenAI use to achieve this?\n",
    "\n",
    "> NOTE: Check out this [API documentation](https://platform.openai.com/docs/api-reference/embeddings/create) for the answer to question #1, and [this documentation](https://platform.openai.com/docs/guides/embeddings/use-cases) for an answer to question #2!"
   ]
  },
  {
   "cell_type": "markdown",
   "metadata": {
    "id": "w5FZY7K3R6yv"
   },
   "source": [
    "We can call the `async_get_embeddings` method of our `EmbeddingModel()` on a list of `str` and receive a list of `float` back!\n",
    "\n",
    "```python\n",
    "async def async_get_embeddings(self, list_of_text: List[str]) -> List[List[float]]:\n",
    "        return await aget_embeddings(\n",
    "            list_of_text=list_of_text, engine=self.embeddings_model_name\n",
    "        )\n",
    "```"
   ]
  },
  {
   "cell_type": "markdown",
   "metadata": {
    "id": "cSct6X0aR6yv"
   },
   "source": [
    "We cast those to `np.array` when we build our `VectorDatabase()`:\n",
    "\n",
    "```python\n",
    "async def abuild_from_list(self, list_of_text: List[str]) -> \"VectorDatabase\":\n",
    "        embeddings = await self.embedding_model.async_get_embeddings(list_of_text)\n",
    "        for text, embedding in zip(list_of_text, embeddings):\n",
    "            self.insert(text, np.array(embedding))\n",
    "        return self\n",
    "```\n",
    "\n",
    "And that's all we need to do!"
   ]
  },
  {
   "cell_type": "code",
   "execution_count": 32,
   "metadata": {
    "id": "O4KoLbVDR6yv"
   },
   "outputs": [],
   "source": [
    "vector_db = VectorDatabase()\n",
    "vector_db = asyncio.run(vector_db.abuild_from_list(split_documents))"
   ]
  },
  {
   "cell_type": "markdown",
   "metadata": {
    "id": "SSZwaGvpR6yv"
   },
   "source": [
    "#### ❓Question #2:\n",
    "\n",
    "What are the benefits of using an `async` approach to collecting our embeddings?\n",
    "\n",
    "> NOTE: Determining the core difference between `async` and `sync` will be useful! If you get stuck - ask ChatGPT!"
   ]
  },
  {
   "cell_type": "markdown",
   "metadata": {
    "id": "nRBdIt-xR6yw"
   },
   "source": [
    "So, to review what we've done so far in natural language:\n",
    "\n",
    "1. We load source documents\n",
    "2. We split those source documents into smaller chunks (documents)\n",
    "3. We send each of those documents to the `text-embedding-3-small` OpenAI API endpoint\n",
    "4. We store each of the text representations with the vector representations as keys/values in a dictionary"
   ]
  },
  {
   "cell_type": "markdown",
   "metadata": {
    "id": "4-vWANZyR6yw"
   },
   "source": [
    "### Semantic Similarity\n",
    "\n",
    "The next step is to be able to query our `VectorDatabase()` with a `str` and have it return to us vectors and text that is most relevant from our corpus.\n",
    "\n",
    "We're going to use the following process to achieve this in our toy example:\n",
    "\n",
    "1. We need to embed our query with the same `EmbeddingModel()` as we used to construct our `VectorDatabase()`\n",
    "2. We loop through every vector in our `VectorDatabase()` and use a distance measure to compare how related they are\n",
    "3. We return a list of the top `k` closest vectors, with their text representations\n",
    "\n",
    "There's some very heavy optimization that can be done at each of these steps - but let's just focus on the basic pattern in this notebook.\n",
    "\n",
    "> We are using [cosine similarity](https://www.engati.com/glossary/cosine-similarity) as a distance metric in this example - but there are many many distance metrics you could use - like [these](https://flavien-vidal.medium.com/similarity-distances-for-natural-language-processing-16f63cd5ba55)\n",
    "\n",
    "> We are using a rather inefficient way of calculating relative distance between the query vector and all other vectors - there are more advanced approaches that are much more efficient, like [ANN](https://towardsdatascience.com/comprehensive-guide-to-approximate-nearest-neighbors-algorithms-8b94f057d6b6)"
   ]
  },
  {
   "cell_type": "code",
   "execution_count": 33,
   "metadata": {
    "colab": {
     "base_uri": "https://localhost:8080/"
    },
    "id": "76d96uavR6yw",
    "outputId": "bbfccc31-20a2-41c7-c14d-46554a43ed2d"
   },
   "outputs": [
    {
     "data": {
      "text/plain": [
       "[('ordingly.\\nSeventh, when hiring the executive to run your former specialty, be\\ncareful you don’t hire someone weak on purpose.\\nThis sounds silly, but you wouldn’t believe how oaen it happens.\\nThe CEO who used to be a product manager who has a weak\\nproduct management executive. The CEO who used to be in\\nsales who has a weak sales executive. The CEO who used to be\\nin marketing who has a weak marketing executive.\\nI call this the “Michael Eisner Memorial Weak Executive Problem” — aaer the CEO of Disney who had previously been a brilliant TV network executive. When he bought ABC at Disney, it\\npromptly fell to fourth place. His response? “If I had an extra\\ntwo days a week, I could turn around ABC myself.” Well, guess\\nwhat, he didn’t have an extra two days a week.\\nA CEO — or a startup founder — oaen has a hard time letting\\ngo of the function that brought him to the party. The result: you\\nhire someone weak into the executive role for that function so\\nthat you can continue to be “the man” — cons',\n",
       "  0.6538563767462543),\n",
       " ('m. They have areas where they are truly deXcient in judgment or skill set. That’s just life. Almost nobody is brilliant\\nat everything. When hiring and when Hring executives, you\\nmust therefore focus on strength rather than lack of weakness. Everybody has severe weaknesses even if you can’t see\\nthem yet. When managing, it’s oaen useful to micromanage and\\nto provide remedial training around these weaknesses. Doing so\\nmay make the diWerence between an executive succeeding or\\nfailing.\\nFor example, you might have a brilliant engineering executive\\nwho generates excellent team loyalty, has terriXc product judgment and makes the trains run on time. This same executive\\nmay be very poor at relating to the other functions in the company. She may generate far more than her share of cross-functional conYicts, cut herself oW from critical information, and\\nsigniXcantly impede your ability to sell and market eWectively.\\nYour alternatives are:\\n(a) Macro-manage and give her an annual or quarterly object',\n",
       "  0.5036012174948002),\n",
       " ('ed?\\nIn reality — as opposed to Marc’s warped view of reality — it will\\nbe extremely helpful for Marc [if he were actually the CEO,\\nwhich he is not] to meet with the new head of engineering daily\\nwhen she comes on board and review all of her thinking and\\ndecisions. This level of micromanagement will accelerate her\\ntraining and improve her long-term eWectiveness. It will make\\nher seem smarter to the rest of the organization which will build\\ncredibility and conXdence while she comes up to speed. Micromanaging new executives is generally a good idea for a limited\\nperiod of time.\\nHowever, that is not the only time that it makes sense to micro66 The Pmarca Blog Archives\\nmanage executives. It turns out that just about every executive\\nin the world has a few things that are seriously wrong with\\nthem. They have areas where they are truly deXcient in judgment or skill set. That’s just life. Almost nobody is brilliant\\nat everything. When hiring and when Hring executives, you\\nmust therefore focus o',\n",
       "  0.48141025949775257)]"
      ]
     },
     "execution_count": 33,
     "metadata": {},
     "output_type": "execute_result"
    }
   ],
   "source": [
    "vector_db.search_by_text(\"What is the Michael Eisner Memorial Weak Executive Problem?\", k=3)"
   ]
  },
  {
   "cell_type": "markdown",
   "metadata": {
    "id": "TehsfIiKR6yw"
   },
   "source": [
    "## Task 4: Prompts\n",
    "\n",
    "In the following section, we'll be looking at the role of prompts - and how they help us to guide our application in the right direction.\n",
    "\n",
    "In this notebook, we're going to rely on the idea of \"zero-shot in-context learning\".\n",
    "\n",
    "This is a lot of words to say: \"We will ask it to perform our desired task in the prompt, and provide no examples.\""
   ]
  },
  {
   "cell_type": "markdown",
   "metadata": {
    "id": "yXpA0UveR6yw"
   },
   "source": [
    "### XYZRolePrompt\n",
    "\n",
    "Before we do that, let's stop and think a bit about how OpenAI's chat models work.\n",
    "\n",
    "We know they have roles - as is indicated in the following API [documentation](https://platform.openai.com/docs/api-reference/chat/create#chat/create-messages)\n",
    "\n",
    "There are three roles, and they function as follows (taken directly from [OpenAI](https://platform.openai.com/docs/guides/gpt/chat-completions-api)):\n",
    "\n",
    "- `{\"role\" : \"system\"}` : The system message helps set the behavior of the assistant. For example, you can modify the personality of the assistant or provide specific instructions about how it should behave throughout the conversation. However note that the system message is optional and the model’s behavior without a system message is likely to be similar to using a generic message such as \"You are a helpful assistant.\"\n",
    "- `{\"role\" : \"user\"}` : The user messages provide requests or comments for the assistant to respond to.\n",
    "- `{\"role\" : \"assistant\"}` : Assistant messages store previous assistant responses, but can also be written by you to give examples of desired behavior.\n",
    "\n",
    "The main idea is this:\n",
    "\n",
    "1. You start with a system message that outlines how the LLM should respond, what kind of behaviours you can expect from it, and more\n",
    "2. Then, you can provide a few examples in the form of \"assistant\"/\"user\" pairs\n",
    "3. Then, you prompt the model with the true \"user\" message.\n",
    "\n",
    "In this example, we'll be forgoing the 2nd step for simplicities sake."
   ]
  },
  {
   "cell_type": "markdown",
   "metadata": {
    "id": "gdZ2KWKSR6yw"
   },
   "source": [
    "#### Utility Functions\n",
    "\n",
    "You'll notice that we're using some utility functions from the `aimakerspace` module - let's take a peek at these and see what they're doing!"
   ]
  },
  {
   "cell_type": "markdown",
   "metadata": {
    "id": "GFbeJDDsR6yw"
   },
   "source": [
    "##### XYZRolePrompt"
   ]
  },
  {
   "cell_type": "markdown",
   "metadata": {
    "id": "5mojJSE3R6yw"
   },
   "source": [
    "Here we have our `system`, `user`, and `assistant` role prompts.\n",
    "\n",
    "Let's take a peek at what they look like:\n",
    "\n",
    "```python\n",
    "class BasePrompt:\n",
    "    def __init__(self, prompt):\n",
    "        \"\"\"\n",
    "        Initializes the BasePrompt object with a prompt template.\n",
    "\n",
    "        :param prompt: A string that can contain placeholders within curly braces\n",
    "        \"\"\"\n",
    "        self.prompt = prompt\n",
    "        self._pattern = re.compile(r\"\\{([^}]+)\\}\")\n",
    "\n",
    "    def format_prompt(self, **kwargs):\n",
    "        \"\"\"\n",
    "        Formats the prompt string using the keyword arguments provided.\n",
    "\n",
    "        :param kwargs: The values to substitute into the prompt string\n",
    "        :return: The formatted prompt string\n",
    "        \"\"\"\n",
    "        matches = self._pattern.findall(self.prompt)\n",
    "        return self.prompt.format(**{match: kwargs.get(match, \"\") for match in matches})\n",
    "\n",
    "    def get_input_variables(self):\n",
    "        \"\"\"\n",
    "        Gets the list of input variable names from the prompt string.\n",
    "\n",
    "        :return: List of input variable names\n",
    "        \"\"\"\n",
    "        return self._pattern.findall(self.prompt)\n",
    "```\n",
    "\n",
    "Then we have our `RolePrompt` which laser focuses us on the role pattern found in most API endpoints for LLMs.\n",
    "\n",
    "```python\n",
    "class RolePrompt(BasePrompt):\n",
    "    def __init__(self, prompt, role: str):\n",
    "        \"\"\"\n",
    "        Initializes the RolePrompt object with a prompt template and a role.\n",
    "\n",
    "        :param prompt: A string that can contain placeholders within curly braces\n",
    "        :param role: The role for the message ('system', 'user', or 'assistant')\n",
    "        \"\"\"\n",
    "        super().__init__(prompt)\n",
    "        self.role = role\n",
    "\n",
    "    def create_message(self, **kwargs):\n",
    "        \"\"\"\n",
    "        Creates a message dictionary with a role and a formatted message.\n",
    "\n",
    "        :param kwargs: The values to substitute into the prompt string\n",
    "        :return: Dictionary containing the role and the formatted message\n",
    "        \"\"\"\n",
    "        return {\"role\": self.role, \"content\": self.format_prompt(**kwargs)}\n",
    "```\n",
    "\n",
    "We'll look at how the `SystemRolePrompt` is constructed to get a better idea of how that extension works:\n",
    "\n",
    "```python\n",
    "class SystemRolePrompt(RolePrompt):\n",
    "    def __init__(self, prompt: str):\n",
    "        super().__init__(prompt, \"system\")\n",
    "```\n",
    "\n",
    "That pattern is repeated for our `UserRolePrompt` and our `AssistantRolePrompt` as well."
   ]
  },
  {
   "cell_type": "markdown",
   "metadata": {
    "id": "D361R6sMR6yw"
   },
   "source": [
    "##### ChatOpenAI"
   ]
  },
  {
   "cell_type": "markdown",
   "metadata": {
    "id": "HJVQ2Pm8R6yw"
   },
   "source": [
    "Next we have our model, which is converted to a format analagous to libraries like LangChain and LlamaIndex.\n",
    "\n",
    "Let's take a peek at how that is constructed:\n",
    "\n",
    "```python\n",
    "class ChatOpenAI:\n",
    "    def __init__(self, model_name: str = \"gpt-4o-mini\"):\n",
    "        self.model_name = model_name\n",
    "        self.openai_api_key = os.getenv(\"OPENAI_API_KEY\")\n",
    "        if self.openai_api_key is None:\n",
    "            raise ValueError(\"OPENAI_API_KEY is not set\")\n",
    "\n",
    "    def run(self, messages, text_only: bool = True):\n",
    "        if not isinstance(messages, list):\n",
    "            raise ValueError(\"messages must be a list\")\n",
    "\n",
    "        openai.api_key = self.openai_api_key\n",
    "        response = openai.ChatCompletion.create(\n",
    "            model=self.model_name, messages=messages\n",
    "        )\n",
    "\n",
    "        if text_only:\n",
    "            return response.choices[0].message.content\n",
    "\n",
    "        return response\n",
    "```"
   ]
  },
  {
   "cell_type": "markdown",
   "metadata": {
    "id": "qCU7FfhIR6yw"
   },
   "source": [
    "#### ❓ Question #3:\n",
    "\n",
    "When calling the OpenAI API - are there any ways we can achieve more reproducible outputs?\n",
    "\n",
    "> NOTE: Check out [this section](https://platform.openai.com/docs/guides/text-generation/) of the OpenAI documentation for the answer!"
   ]
  },
  {
   "cell_type": "markdown",
   "metadata": {
    "id": "c5wcjMLCR6yw"
   },
   "source": [
    "### Creating and Prompting OpenAI's `gpt-4o-mini`!\n",
    "\n",
    "Let's tie all these together and use it to prompt `gpt-4o-mini`!"
   ]
  },
  {
   "cell_type": "code",
   "execution_count": 34,
   "metadata": {
    "id": "WIfpIot7R6yw"
   },
   "outputs": [],
   "source": [
    "from aimakerspace.openai_utils.prompts import (\n",
    "    UserRolePrompt,\n",
    "    SystemRolePrompt,\n",
    "    AssistantRolePrompt,\n",
    ")\n",
    "\n",
    "from aimakerspace.openai_utils.chatmodel import ChatOpenAI\n",
    "\n",
    "chat_openai = ChatOpenAI()\n",
    "user_prompt_template = \"{content}\"\n",
    "user_role_prompt = UserRolePrompt(user_prompt_template)\n",
    "system_prompt_template = (\n",
    "    \"You are an expert in {expertise}, you always answer in a kind way.\"\n",
    ")\n",
    "system_role_prompt = SystemRolePrompt(system_prompt_template)\n",
    "\n",
    "messages = [\n",
    "    system_role_prompt.create_message(expertise=\"Python\"),\n",
    "    user_role_prompt.create_message(\n",
    "        content=\"What is the best way to write a loop?\"\n",
    "    ),\n",
    "]\n",
    "\n",
    "response = chat_openai.run(messages)"
   ]
  },
  {
   "cell_type": "code",
   "execution_count": 35,
   "metadata": {
    "colab": {
     "base_uri": "https://localhost:8080/"
    },
    "id": "dHo7lssNR6yw",
    "outputId": "1d3823fa-bb6b-45f6-ddba-b41686388324"
   },
   "outputs": [
    {
     "name": "stdout",
     "output_type": "stream",
     "text": [
      "The \"best\" way to write a loop in Python often depends on the specific use case and the type of data you're working with. However, here are some common and effective ways to write loops in Python, along with examples:\n",
      "\n",
      "### 1. Using `for` loop\n",
      "The `for` loop is commonly used for iterating over a sequence (like a list, tuple, or string) or any iterable object.\n",
      "\n",
      "```python\n",
      "# Example: Loop through a list\n",
      "fruits = ['apple', 'banana', 'cherry']\n",
      "for fruit in fruits:\n",
      "    print(fruit)\n",
      "```\n",
      "\n",
      "### 2. Using `while` loop\n",
      "A `while` loop continues until a specified condition is no longer true. Ensure you update the condition within the loop to avoid infinite loops!\n",
      "\n",
      "```python\n",
      "# Example: Loop until a condition is met\n",
      "count = 0\n",
      "while count < 5:\n",
      "    print(count)\n",
      "    count += 1\n",
      "```\n",
      "\n",
      "### 3. Using `enumerate` for index tracking\n",
      "If you need both the index and the value from a list, `enumerate` can be very useful.\n",
      "\n",
      "```python\n",
      "# Example: Loop with index\n",
      "for index, fruit in enumerate(fruits):\n",
      "    print(f\"{index}: {fruit}\")\n",
      "```\n",
      "\n",
      "### 4. List comprehensions\n",
      "For cases where you want to create a new list from an existing one, consider using a list comprehension for concise and readable code.\n",
      "\n",
      "```python\n",
      "# Example: Creating a new list with a comprehension\n",
      "squares = [x**2 for x in range(10)]\n",
      "print(squares)\n",
      "```\n",
      "\n",
      "### 5. Using `break` and `continue`\n",
      "These statements allow you to control the flow of the loop. Use `break` to exit the loop early and `continue` to skip to the next iteration.\n",
      "\n",
      "```python\n",
      "# Example: Using break and continue\n",
      "for number in range(10):\n",
      "    if number == 5:\n",
      "        break  # Exit the loop if number is 5\n",
      "    if number % 2 == 0:\n",
      "        continue  # Skip to the next iteration if the number is even\n",
      "    print(number)\n",
      "```\n",
      "\n",
      "### Best Practices\n",
      "- **Keep it simple**: Write loops that are easy to read and understand.\n",
      "- **Limit complexity**: Avoid nesting too many loops unless absolutely necessary.\n",
      "- **Be mindful of performance**: For large datasets, consider more efficient algorithms or use libraries like NumPy or pandas when appropriate.\n",
      "\n",
      "Feel free to ask about anything more specific if you need further clarification or examples!\n"
     ]
    }
   ],
   "source": [
    "print(response)"
   ]
  },
  {
   "cell_type": "markdown",
   "metadata": {
    "id": "r2nxxhB2R6yy"
   },
   "source": [
    "## Task 5: Retrieval Augmented Generation\n",
    "\n",
    "Now we can create a RAG prompt - which will help our system behave in a way that makes sense!\n",
    "\n",
    "There is much you could do here, many tweaks and improvements to be made!"
   ]
  },
  {
   "cell_type": "code",
   "execution_count": 36,
   "metadata": {
    "id": "D1hamzGaR6yy"
   },
   "outputs": [],
   "source": [
    "RAG_SYSTEM_TEMPLATE = \"\"\"You are a knowledgeable assistant that answers questions based strictly on provided context.\n",
    "\n",
    "Instructions:\n",
    "- Only answer questions using information from the provided context\n",
    "- If the context doesn't contain relevant information, respond with \"I don't know\"\n",
    "- Be accurate and cite specific parts of the context when possible\n",
    "- Keep responses {response_style} and {response_length}\n",
    "- Only use the provided context. Do not use external knowledge.\n",
    "- Only provide answers when you are confident the context supports your response.\"\"\"\n",
    "\n",
    "RAG_USER_TEMPLATE = \"\"\"Context Information:\n",
    "{context}\n",
    "\n",
    "Number of relevant sources found: {context_count}\n",
    "{similarity_scores}\n",
    "\n",
    "Question: {user_query}\n",
    "\n",
    "Please provide your answer based solely on the context above.\"\"\"\n",
    "\n",
    "rag_system_prompt = SystemRolePrompt(\n",
    "    RAG_SYSTEM_TEMPLATE,\n",
    "    strict=True,\n",
    "    defaults={\n",
    "        \"response_style\": \"concise\",\n",
    "        \"response_length\": \"brief\"\n",
    "    }\n",
    ")\n",
    "\n",
    "rag_user_prompt = UserRolePrompt(\n",
    "    RAG_USER_TEMPLATE,\n",
    "    strict=True,\n",
    "    defaults={\n",
    "        \"context_count\": \"\",\n",
    "        \"similarity_scores\": \"\"\n",
    "    }\n",
    ")\n",
    "\n",
    "class RetrievalAugmentedQAPipeline:\n",
    "    def __init__(self, llm: ChatOpenAI(), vector_db_retriever: VectorDatabase, \n",
    "                 response_style: str = \"detailed\", include_scores: bool = False) -> None:\n",
    "        self.llm = llm\n",
    "        self.vector_db_retriever = vector_db_retriever\n",
    "        self.response_style = response_style\n",
    "        self.include_scores = include_scores\n",
    "\n",
    "    def run_pipeline(self, user_query: str, k: int = 4, **system_kwargs) -> dict:\n",
    "        # Retrieve relevant contexts\n",
    "        context_list = self.vector_db_retriever.search_by_text(user_query, k=k)\n",
    "        \n",
    "        context_prompt = \"\"\n",
    "        similarity_scores = []\n",
    "        \n",
    "        for i, (context, score) in enumerate(context_list, 1):\n",
    "            context_prompt += f\"[Source {i}]: {context}\\n\\n\"\n",
    "            similarity_scores.append(f\"Source {i}: {score:.3f}\")\n",
    "        \n",
    "        # Create system message with parameters\n",
    "        system_params = {\n",
    "            \"response_style\": self.response_style,\n",
    "            \"response_length\": system_kwargs.get(\"response_length\", \"detailed\")\n",
    "        }\n",
    "        \n",
    "        formatted_system_prompt = rag_system_prompt.create_message(**system_params)\n",
    "        \n",
    "        user_params = {\n",
    "            \"user_query\": user_query,\n",
    "            \"context\": context_prompt.strip(),\n",
    "            \"context_count\": len(context_list),\n",
    "            \"similarity_scores\": f\"Relevance scores: {', '.join(similarity_scores)}\" if self.include_scores else \"\"\n",
    "        }\n",
    "        \n",
    "        formatted_user_prompt = rag_user_prompt.create_message(**user_params)\n",
    "\n",
    "        return {\n",
    "            \"response\": self.llm.run([formatted_system_prompt, formatted_user_prompt]), \n",
    "            \"context\": context_list,\n",
    "            \"context_count\": len(context_list),\n",
    "            \"similarity_scores\": similarity_scores if self.include_scores else None,\n",
    "            \"prompts_used\": {\n",
    "                \"system\": formatted_system_prompt,\n",
    "                \"user\": formatted_user_prompt\n",
    "            }\n",
    "        }"
   ]
  },
  {
   "cell_type": "code",
   "execution_count": 37,
   "metadata": {},
   "outputs": [
    {
     "name": "stdout",
     "output_type": "stream",
     "text": [
      "Response: The 'Michael Eisner Memorial Weak Executive Problem' refers to a tendency for CEOs or startup founders to hire executives who are weak in their respective areas of expertise. This situation often occurs when a CEO, who has experience in a particular function (such as product management, sales, or marketing), hires someone less competent in that function. The underlying issue is that the CEO struggles to let go of the function that initially contributed to their success, which leads them to choose a weaker candidate so they can remain the predominant authority in that area. This concept is illustrated through the example of Michael Eisner, the former CEO of Disney, who, despite being a successful TV network executive, failed to effectively manage ABC after acquiring it, ultimately stating, “If I had an extra two days a week, I could turn around ABC myself.” This indicates the challenges and misjudgments that can arise from such hiring decisions.\n",
      "\n",
      "Context Count: 3\n",
      "Similarity Scores: ['Source 1: 0.658', 'Source 2: 0.509', 'Source 3: 0.479']\n"
     ]
    }
   ],
   "source": [
    "rag_pipeline = RetrievalAugmentedQAPipeline(\n",
    "    vector_db_retriever=vector_db,\n",
    "    llm=chat_openai,\n",
    "    response_style=\"detailed\",\n",
    "    include_scores=True\n",
    ")\n",
    "\n",
    "result = rag_pipeline.run_pipeline(\n",
    "    \"What is the 'Michael Eisner Memorial Weak Executive Problem'?\",\n",
    "    k=3,\n",
    "    response_length=\"comprehensive\", \n",
    "    include_warnings=True,\n",
    "    confidence_required=True\n",
    ")\n",
    "\n",
    "print(f\"Response: {result['response']}\")\n",
    "print(f\"\\nContext Count: {result['context_count']}\")\n",
    "print(f\"Similarity Scores: {result['similarity_scores']}\")\n"
   ]
  },
  {
   "cell_type": "markdown",
   "metadata": {
    "id": "zZIJI19uR6yz"
   },
   "source": [
    "#### ❓ Question #4:\n",
    "\n",
    "What prompting strategies could you use to make the LLM have a more thoughtful, detailed response?\n",
    "\n",
    "What is that strategy called?\n",
    "\n",
    "> NOTE: You can look through [\"Accessing GPT-3.5-turbo Like a Developer\"](https://colab.research.google.com/drive/1mOzbgf4a2SP5qQj33ZxTz2a01-5eXqk2?usp=sharing) for an answer to this question if you get stuck!"
   ]
  },
  {
   "cell_type": "markdown",
   "metadata": {},
   "source": [
    "### 🏗️ Activity #1:\n",
    "\n",
    "Enhance your RAG application in some way! \n",
    "\n",
    "Suggestions are: \n",
    "\n",
    "- Allow it to work with PDF files\n",
    "- Implement a new distance metric\n",
    "- Add metadata support to the vector database\n",
    "\n",
    "While these are suggestions, you should feel free to make whatever augmentations you desire! \n",
    "\n",
    "> NOTE: These additions might require you to work within the `aimakerspace` library - that's expected!\n",
    "\n",
    "> NOTE: If you're not sure where to start - ask Cursor (CMD/CTRL+L) to guide you through the changes!"
   ]
  },
  {
   "cell_type": "code",
   "execution_count": 38,
   "metadata": {},
   "outputs": [
    {
     "name": "stdout",
     "output_type": "stream",
     "text": [
      "Loaded 1 PDF document(s)\n",
      "First 200 chars: \n",
      "--- Page 1 ---\n",
      "RAG System Enhancement: PDF Support Documentation\n",
      "Overview\n",
      "This document demonstrates the PDF support enhancement added to our\n",
      "Retrieval Augmented Generation (RAG) system.\n",
      "The system c...\n"
     ]
    }
   ],
   "source": [
    "### PDF Support Enhancement\n",
    "\n",
    "# Import the new PDF loader\n",
    "from aimakerspace.pdf_loader import UniversalLoader\n",
    "\n",
    "# Example: Load documents from either text or PDF files\n",
    "def load_documents_universal(file_path):\n",
    "    \"\"\"Load documents from text or PDF files\"\"\"\n",
    "    loader = UniversalLoader(file_path)\n",
    "    return loader.load_documents()\n",
    "\n",
    "# Test with our PDF document\n",
    "pdf_documents = load_documents_universal(\"data/rag_enhancement_test.pdf\")\n",
    "print(f\"Loaded {len(pdf_documents)} PDF document(s)\")\n",
    "print(f\"First 200 chars: {pdf_documents[0][:200]}...\")\n",
    "\n",
    "# You can now use the same RAG pipeline with PDF documents!\n",
    "# The UniversalLoader automatically detects file type and uses the appropriate loader"
   ]
  },
  {
   "cell_type": "markdown",
   "metadata": {},
   "source": [
    "## 📚 Demo: Processing Academic Papers with PDF Support\n",
    "\n",
    "Now let's demonstrate the enhanced RAG system by processing a real academic paper - the \"Retrieval-Augmented Generation for Large Language Models: A Survey\" from arXiv.\n",
    "\n",
    "This demonstrates several advanced capabilities:\n",
    "- Processing multi-page PDFs with complex formatting\n",
    "- Handling academic content with technical terminology\n",
    "- Extracting insights from research papers\n",
    "- Maintaining context across document sections"
   ]
  },
  {
   "cell_type": "code",
   "execution_count": 39,
   "metadata": {},
   "outputs": [
    {
     "name": "stdout",
     "output_type": "stream",
     "text": [
      "Loading RAG Survey Paper from arXiv...\n",
      "\n",
      "✓ Loaded 1 document(s)\n",
      "Total characters: 110,285\n",
      "\n",
      "First 500 characters of the paper:\n",
      "------------------------------------------------------------\n",
      " --- Page 1 --- 1 Retrieval-Augmented Generation for Large Language Models: A Survey Yunfan Gaoa, Yun Xiongb, Xinyu Gao b, Kangxiang Jia b, Jinliu Pan b, Yuxi Bic, Yi Dai a, Jiawei Sun a, Meng Wangc, and Haofen Wang a,c aShanghai Research Institute for Intelligent Autonomous Systems, Tongji University bShanghai Key Laboratory of Data Science, School of Computer Science, Fudan University cCollege of Design and Innovation, Tongji University Abstract—Large Language Models (LLMs) showcase impres- si\n"
     ]
    }
   ],
   "source": [
    "# Load the RAG survey paper (27 pages of academic content)\n",
    "print(\"Loading RAG Survey Paper from arXiv...\")\n",
    "rag_paper_documents = load_documents_universal(\"data/rag_survey_paper.pdf\")\n",
    "\n",
    "# Let's see some basic info about the paper\n",
    "print(f\"\\n✓ Loaded {len(rag_paper_documents)} document(s)\")\n",
    "print(f\"Total characters: {len(rag_paper_documents[0]):,}\")\n",
    "print(f\"\\nFirst 500 characters of the paper:\")\n",
    "print(\"-\" * 60)\n",
    "print(rag_paper_documents[0][:500].replace('\\n', ' '))"
   ]
  },
  {
   "cell_type": "code",
   "execution_count": 40,
   "metadata": {},
   "outputs": [
    {
     "name": "stdout",
     "output_type": "stream",
     "text": [
      "Split the paper into 92 chunks\n",
      "Average chunk size: 1495 characters\n",
      "\n",
      "Sample chunk #46:\n",
      "------------------------------------------------------------\n",
      "ystems.\n",
      "A. Downstream Task\n",
      "The core task of RAG remains Question Answering (QA),\n",
      "including traditional single-hop/multi-hop QA, multiple-\n",
      "choice, domain-specific QA as well as long-form scenarios\n",
      "suitable for RAG. In addition to QA, RAG is continuously\n",
      "being expanded into multiple downstream tasks, such as Infor-\n",
      "mation Extraction (IE), dialogue generation, code search, etc.\n",
      "The main downstream ta...\n"
     ]
    }
   ],
   "source": [
    "# Split the academic paper into chunks\n",
    "# Use larger chunks for academic content to preserve context\n",
    "academic_splitter = CharacterTextSplitter(chunk_size=1500, chunk_overlap=300)\n",
    "rag_paper_chunks = academic_splitter.split_texts(rag_paper_documents)\n",
    "\n",
    "print(f\"Split the paper into {len(rag_paper_chunks)} chunks\")\n",
    "print(f\"Average chunk size: {sum(len(chunk) for chunk in rag_paper_chunks) // len(rag_paper_chunks)} characters\")\n",
    "\n",
    "# Show a sample chunk from the middle of the paper\n",
    "sample_chunk_idx = len(rag_paper_chunks) // 2\n",
    "print(f\"\\nSample chunk #{sample_chunk_idx}:\")\n",
    "print(\"-\" * 60)\n",
    "print(rag_paper_chunks[sample_chunk_idx][:400] + \"...\")"
   ]
  },
  {
   "cell_type": "code",
   "execution_count": 41,
   "metadata": {},
   "outputs": [
    {
     "name": "stdout",
     "output_type": "stream",
     "text": [
      "Building vector database for the RAG survey paper...\n",
      "✓ Vector database built successfully!\n",
      "\n",
      "Testing semantic search with query: 'What are the different RAG paradigms?'\n",
      "\n",
      "Top 3 relevant chunks:\n",
      "\n",
      "1. Relevance score: 0.704\n",
      "   Preview: out adding insightful or\n",
      "synthesized information.\n",
      "B. Advanced RAG\n",
      "Advanced RAG introduces specific improvements to over-\n",
      "come the limitations of Naive...\n",
      "\n",
      "2. Relevance score: 0.656\n",
      "   Preview: AG technologies and their application on many different\n",
      "tasks. The analysis outlines three developmental paradigms\n",
      "within the RAG framework: Naive, Ad...\n",
      "\n",
      "3. Relevance score: 0.645\n",
      "   Preview: alyzes the three augmentation processes. Section VI focuses\n",
      "on RAG’s downstream tasks and evaluation system. Sec-\n",
      "tion VII mainly discusses the challe...\n"
     ]
    }
   ],
   "source": [
    "# Build a vector database specifically for the academic paper\n",
    "print(\"Building vector database for the RAG survey paper...\")\n",
    "rag_paper_vector_db = VectorDatabase()\n",
    "rag_paper_vector_db = asyncio.run(rag_paper_vector_db.abuild_from_list(rag_paper_chunks))\n",
    "print(\"✓ Vector database built successfully!\")\n",
    "\n",
    "# Test semantic search on academic content\n",
    "test_query = \"What are the different RAG paradigms?\"\n",
    "print(f\"\\nTesting semantic search with query: '{test_query}'\")\n",
    "search_results = rag_paper_vector_db.search_by_text(test_query, k=3)\n",
    "\n",
    "print(f\"\\nTop 3 relevant chunks:\")\n",
    "for i, (text, score) in enumerate(search_results, 1):\n",
    "    print(f\"\\n{i}. Relevance score: {score:.3f}\")\n",
    "    print(f\"   Preview: {text[:150]}...\")"
   ]
  },
  {
   "cell_type": "markdown",
   "metadata": {},
   "source": [
    "### 🔬 Academic RAG Pipeline\n",
    "\n",
    "Let's create a specialized RAG pipeline for academic papers that provides more detailed analysis:"
   ]
  },
  {
   "cell_type": "code",
   "execution_count": 42,
   "metadata": {},
   "outputs": [
    {
     "name": "stdout",
     "output_type": "stream",
     "text": [
      "📚 Query 1: Core RAG Components\n",
      "============================================================\n",
      "Answer:\n",
      "The main components of a RAG (Retrieval-Augmented Generation) system, according to the survey, include:\n",
      "\n",
      "1. **Retrieval** - This component focuses on sourcing relevant information from various data repositories or content, which is crucial for the overall effectiveness of RAG. Evaluating retrieval quality is identified as critical for success.\n",
      "\n",
      "2. **Generation** - This involves the processing and generating of responses based on the retrieved information.\n",
      "\n",
      "3. **Augmentation** - This refers to techniques that enhance the retrieval process or the generation capabilities, integrating retrieval-augmented methods to increase the performance of the system.\n",
      "\n",
      "These components are interconnected and essential for the operation of RAG systems, which also embrace multi-task functionalities like Question Answering (QA), Information Extraction (IE), and dialogue generation (source 2 and source 5). Additionally, the modular RAG architecture highlights adaptability through the introduction of new modules enhancing retrieval and processing capabilities (source 3).\n",
      "\n",
      "Based on 5 sources with scores: ['Source 1: 0.623', 'Source 2: 0.612', 'Source 3: 0.603', 'Source 4: 0.603', 'Source 5: 0.597']\n"
     ]
    }
   ],
   "source": [
    "# Create a specialized RAG pipeline for academic content\n",
    "academic_rag_pipeline = RetrievalAugmentedQAPipeline(\n",
    "    vector_db_retriever=rag_paper_vector_db,\n",
    "    llm=chat_openai,\n",
    "    response_style=\"academic\",  # More formal style for academic content\n",
    "    include_scores=True\n",
    ")\n",
    "\n",
    "# Query 1: Understanding RAG Components\n",
    "print(\"📚 Query 1: Core RAG Components\")\n",
    "print(\"=\" * 60)\n",
    "result1 = academic_rag_pipeline.run_pipeline(\n",
    "    \"What are the main components of a RAG system according to this survey?\",\n",
    "    k=5,  # More context for complex queries\n",
    "    response_length=\"comprehensive\"\n",
    ")\n",
    "\n",
    "print(f\"Answer:\\n{result1['response']}\")\n",
    "print(f\"\\nBased on {result1['context_count']} sources with scores: {result1['similarity_scores']}\")"
   ]
  },
  {
   "cell_type": "code",
   "execution_count": 43,
   "metadata": {},
   "outputs": [
    {
     "name": "stdout",
     "output_type": "stream",
     "text": [
      "\n",
      "\n",
      "📚 Query 2: Evolution of RAG Paradigms\n",
      "============================================================\n",
      "Answer:\n",
      "The paper categorizes the evolution of RAG into three stages: Naive RAG, Advanced RAG, and Modular RAG. \n",
      "\n",
      "1. **Naive RAG** is described as the earliest methodology that gained prominence shortly after the emergence of RAG methodologies. It primarily comprises three components: indexing, retrieval, and generation.\n",
      "\n",
      "2. **Advanced RAG** introduces specific improvements to overcome the limitations of Naive RAG. It focuses on enhancing retrieval quality through pre-retrieval and post-retrieval strategies, refining indexing techniques, and employing optimization methods to streamline the retrieval process. Despite these enhancements, it maintains a chain-like structure similar to Naive RAG.\n",
      "\n",
      "3. **Modular RAG** represents an advancement beyond the previous two paradigms, offering greater flexibility and adaptability. This approach incorporates diverse strategies for improving various components, introduces additional specialized modules, and allows for integrated end-to-end training across its components. It builds upon the foundational principles of both Advanced RAG and Naive RAG, asserting a progression and refinement within the RAG family.\n",
      "\n",
      "These stages illustrate the continuous evolution and increasing sophistication within the RAG research paradigm.\n",
      "\n",
      "Relevance scores: Source 1: 0.626, Source 2: 0.616, Source 3: 0.607, Source 4: 0.599\n"
     ]
    }
   ],
   "source": [
    "# Query 2: RAG Paradigms Evolution\n",
    "print(\"\\n\\n📚 Query 2: Evolution of RAG Paradigms\")\n",
    "print(\"=\" * 60)\n",
    "result2 = academic_rag_pipeline.run_pipeline(\n",
    "    \"How does the paper categorize the evolution from Naive RAG to Advanced RAG to Modular RAG?\",\n",
    "    k=4,\n",
    "    response_length=\"detailed\"\n",
    ")\n",
    "\n",
    "print(f\"Answer:\\n{result2['response']}\")\n",
    "print(f\"\\nRelevance scores: {', '.join(result2['similarity_scores'])}\")"
   ]
  },
  {
   "cell_type": "code",
   "execution_count": 44,
   "metadata": {},
   "outputs": [
    {
     "name": "stdout",
     "output_type": "stream",
     "text": [
      "\n",
      "\n",
      "📚 Query 3: RAG Evaluation Metrics\n",
      "============================================================\n",
      "Answer:\n",
      "The evaluation metrics and benchmarks used to assess RAG (Retrieval-Augmented Generation) systems are summarized as follows:\n",
      "\n",
      "1. **Evaluation Metrics**: \n",
      "   - The evaluation focuses on key quality scores such as context relevance, answer faithfulness, and answer relevance. The specific metrics that are traditionally employed include:\n",
      "     - Accuracy\n",
      "     - Exact Match (EM)\n",
      "     - Recall\n",
      "     - Precision\n",
      "     - R-Rate\n",
      "     - Cosine Similarity\n",
      "     - Hit Rate\n",
      "     - Mean Reciprocal Rank (MRR)\n",
      "     - Normalized Discounted Cumulative Gain (NDCG)\n",
      "     - BLEU\n",
      "     - ROUGE/ROUGE-L\n",
      "   These metrics are applicable for various evaluation aspects such as retrieval quality and generation quality, although it is noted that they do not represent a standardized approach for quantifying RAG evaluation aspects (Source 1 and 3).\n",
      "\n",
      "2. **Benchmarks and Tools**:\n",
      "   - Prominent benchmarks for evaluating RAG models include RGB, RECALL, and CRUD. These benchmarks assess essential capabilities of RAG models and offer quantitative metrics to gauge their performance.\n",
      "   - Additionally, automated tools such as RAGAS, ARES, and TruLens utilize large language models (LLMs) to determine quality scores systematically (Source 1).\n",
      "\n",
      "Overall, these metrics and benchmarks collectively form a comprehensive framework for evaluating RAG systems across different dimensions of performance.\n"
     ]
    }
   ],
   "source": [
    "# Query 3: Evaluation Metrics\n",
    "print(\"\\n\\n📚 Query 3: RAG Evaluation Metrics\")\n",
    "print(\"=\" * 60)\n",
    "result3 = academic_rag_pipeline.run_pipeline(\n",
    "    \"What evaluation metrics and benchmarks are used to assess RAG systems?\",\n",
    "    k=4\n",
    ")\n",
    "\n",
    "print(f\"Answer:\\n{result3['response']}\")"
   ]
  },
  {
   "cell_type": "markdown",
   "metadata": {},
   "source": [
    "### 🎯 Technical Deep Dive: Specific RAG Techniques"
   ]
  },
  {
   "cell_type": "code",
   "execution_count": 45,
   "metadata": {},
   "outputs": [
    {
     "name": "stdout",
     "output_type": "stream",
     "text": [
      "\n",
      "============================================================\n",
      "🔍 Technical Query 1: What retrieval enhancement methods does the paper discuss?\n",
      "============================================================\n",
      "\n",
      "Answer:\n",
      "The paper discusses several retrieval enhancement methods primarily within the context of the Retrieval-Augmented Generation (RAG) approach. Key enhancement methods mentioned include:\n",
      "\n",
      "1. **Pre-retrieval optimization**: This involves strategies to optimize the indexing structure and the user's original query. Specific techniques include:\n",
      "   - Enhancing data granularity\n",
      "   - Optimizing index structures\n",
      "   - Adding metadata\n",
      "   - Alignment optimization\n",
      "   - Mixed retrieval\n",
      "\n",
      "2. **Query optimization**: This aims to make the user's question clearer and more suitable for retrieval tasks. Common methods include:\n",
      "   - Query rewriting\n",
      "   - Query transformation\n",
      "   - Query expansion\n",
      "\n",
      "3. **Post-retrieval processing**: After relevant context is retrieved, it emphasizes integrating this context effectively with the query. Key methods in this stage are:\n",
      "   - Re-ranking retrieved information to relocate the most relevant content\n",
      "   - Context compressing to mitigate information overload and focus on essential details\n",
      "\n",
      "These strategies are essential to improve the overall efficacy of the retrieval process, enhancing both the relevance of retrieved content and the quality of the user experience with the LLMs (Large Language Models).\n",
      "\n",
      "Most relevant extract (score: 0.591):\n",
      "thods such as iterative and adaptive retrieval.\n",
      "Pre-retrieval process. In this stage, the primary focus is\n",
      "on optimizing the indexing structure and the original query.\n",
      "The goal of optimizing indexing ...\n",
      "\n",
      "============================================================\n",
      "🔍 Technical Query 2: How does the paper describe the role of knowledge graphs in RAG?\n",
      "============================================================\n",
      "\n",
      "Answer:\n",
      "The paper describes the role of knowledge graphs (KGs) in RAG (Retrieval-Augmented Generation) by emphasizing their structure and the benefits they offer for knowledge retrieval and reasoning. Specifically, KGs are portrayed as composed of nodes (which represent paragraphs or structures within documents, such as pages and tables) and edges (that indicate semantic or lexical similarities between paragraphs or relationships within the document structure). This construction of KGs helps effectively address knowledge retrieval and reasoning problems in a multi-document environment, enhancing the overall efficiency of the RAG system (Source 3). \n",
      "\n",
      "Moreover, it is noted that structured data, such as KGs, is typically verified and can provide more precise information, which contributes to the richness of knowledge in RAG models (Source 2).\n",
      "\n",
      "Most relevant extract (score: 0.632):\n",
      "con-\n",
      "version [180]. Additionally, KNN-based attention fusion lever-\n",
      "ages audio embeddings and semantically related text embed-\n",
      "dings to refine ASR, thereby accelerating domain adaptation.\n",
      "Vid2Seq augm...\n",
      "\n",
      "============================================================\n",
      "🔍 Technical Query 3: What future research directions for RAG are suggested?\n",
      "============================================================\n",
      "\n",
      "Answer:\n",
      "The context suggests that future research directions for RAG (Retrieval-Augmented Generation) will focus on addressing several challenges within the framework of RAG technology. Specifically, it notes the need for in-depth research on:\n",
      "\n",
      "1. **Integration with Long Context**: As LLMs (Large Language Models) are capable of managing contexts exceeding 200,000 tokens, discussions arise concerning the necessity of RAG in scenarios where LLMs can incorporate entire documents. Despite this, RAG is highlighted as still having an irreplaceable role due to factors such as inference speed and operational efficiency when using chunked retrieval and on-demand input.\n",
      "\n",
      "2. **Operational Efficiency**: Exploring how to enhance the efficiency of retrieval-based processes while ensuring that the entire retrieval and reasoning process remains observable, thus allowing users to verify generated answers.\n",
      "\n",
      "3. **Complex Problem Solving**: The expansion of context presents new opportunities for RAG to tackle more complex problems and integrative or summary questions that require the processing of larger amounts of material for accurate answers.\n",
      "\n",
      "In summary, the suggested future research directions for RAG include addressing the balance between long-context management by LLMs and the continued development of RAG methodologies to enhance problem-solving capabilities and operational effectiveness.\n",
      "\n",
      "Most relevant extract (score: 0.694):\n",
      "x and knowledge-intensive tasks during the inference stage,\n",
      "leading to rapid development in RAG studies. As research\n",
      "progressed, the enhancement of RAG was no longer limited\n",
      "to the inference stage but...\n"
     ]
    }
   ],
   "source": [
    "# Let's explore specific technical details from the paper\n",
    "technical_queries = [\n",
    "    \"What retrieval enhancement methods does the paper discuss?\",\n",
    "    \"How does the paper describe the role of knowledge graphs in RAG?\",\n",
    "    \"What future research directions for RAG are suggested?\"\n",
    "]\n",
    "\n",
    "for i, query in enumerate(technical_queries, 1):\n",
    "    print(f\"\\n{'='*60}\")\n",
    "    print(f\"🔍 Technical Query {i}: {query}\")\n",
    "    print(\"=\"*60)\n",
    "    \n",
    "    result = academic_rag_pipeline.run_pipeline(query, k=3)\n",
    "    print(f\"\\nAnswer:\\n{result['response']}\")\n",
    "    \n",
    "    # Show the most relevant source\n",
    "    if result['context']:\n",
    "        most_relevant = result['context'][0]\n",
    "        print(f\"\\nMost relevant extract (score: {most_relevant[1]:.3f}):\")\n",
    "        print(f\"{most_relevant[0][:200]}...\")"
   ]
  },
  {
   "cell_type": "markdown",
   "metadata": {},
   "source": [
    "### 📊 Comparative Analysis: Text vs PDF Processing"
   ]
  },
  {
   "cell_type": "code",
   "execution_count": 46,
   "metadata": {},
   "outputs": [
    {
     "name": "stdout",
     "output_type": "stream",
     "text": [
      "📊 Document Processing Comparison\n",
      "============================================================\n",
      "\n",
      "Metric                    Text File            PDF File            \n",
      "-----------------------------------------------------------------\n",
      "Document Type             PMarca Blogs         RAG Survey Paper    \n",
      "Total Characters          297904,,,,,,,,,,,,,, 110285,,,,,,,,,,,,,,\n",
      "Number of Chunks          373                  92                  \n",
      "Avg Chunk Size            998                  1495                \n",
      "Pages                     N/A                  27                  \n",
      "\n",
      "✅ The UniversalLoader seamlessly handles both formats!\n"
     ]
    }
   ],
   "source": [
    "# Compare processing statistics between text and PDF documents\n",
    "print(\"📊 Document Processing Comparison\")\n",
    "print(\"=\" * 60)\n",
    "\n",
    "# Text document stats (PMarca blogs)\n",
    "text_doc_size = len(documents[0])\n",
    "text_chunks = len(split_documents)\n",
    "text_avg_chunk = sum(len(chunk) for chunk in split_documents) // len(split_documents)\n",
    "\n",
    "# PDF document stats (RAG survey)\n",
    "pdf_doc_size = len(rag_paper_documents[0])\n",
    "pdf_chunks = len(rag_paper_chunks)\n",
    "pdf_avg_chunk = sum(len(chunk) for chunk in rag_paper_chunks) // len(rag_paper_chunks)\n",
    "\n",
    "print(f\"\\n{'Metric':<25} {'Text File':<20} {'PDF File':<20}\")\n",
    "print(\"-\" * 65)\n",
    "print(f\"{'Document Type':<25} {'PMarca Blogs':<20} {'RAG Survey Paper':<20}\")\n",
    "print(f\"{'Total Characters':<25} {text_doc_size:,<20} {pdf_doc_size:,<20}\")\n",
    "print(f\"{'Number of Chunks':<25} {text_chunks:<20} {pdf_chunks:<20}\")\n",
    "print(f\"{'Avg Chunk Size':<25} {text_avg_chunk:<20} {pdf_avg_chunk:<20}\")\n",
    "print(f\"{'Pages':<25} {'N/A':<20} {'27':<20}\")\n",
    "\n",
    "print(\"\\n✅ The UniversalLoader seamlessly handles both formats!\")"
   ]
  },
  {
   "cell_type": "markdown",
   "metadata": {},
   "source": [
    "### 🚀 Summary: PDF Enhancement Success!\n",
    "\n",
    "We've successfully enhanced our RAG system with comprehensive PDF support:\n",
    "\n",
    "1. **✅ PDF Loading**: The `UniversalLoader` automatically detects and processes PDF files\n",
    "2. **✅ Page Preservation**: PDF content maintains page references for better traceability\n",
    "3. **✅ Academic Content**: Successfully processed complex academic papers with technical content\n",
    "4. **✅ Seamless Integration**: Same RAG pipeline works for both text and PDF documents\n",
    "\n",
    "The system can now handle:\n",
    "- Simple text files\n",
    "- Complex multi-page PDFs\n",
    "- Academic papers with figures and tables\n",
    "- Mixed directories with multiple file types\n",
    "\n",
    "This makes the RAG system much more versatile for real-world applications!"
   ]
  },
  {
   "cell_type": "markdown",
   "source": "## 🚀 Enhancement 2: Multiple Distance Metrics\n\nBeyond cosine similarity, there are many other ways to measure vector similarity. Let's implement and compare different distance metrics to see how they affect retrieval quality.",
   "metadata": {}
  },
  {
   "cell_type": "code",
   "source": "# Import the distance metrics module\nfrom aimakerspace.distance_metrics import (\n    cosine_similarity,\n    euclidean_distance,\n    manhattan_distance,\n    dot_product_similarity,\n    correlation_similarity,\n    DISTANCE_METRICS\n)\n\n# Let's compare different distance metrics on the same query\ntest_query = \"What is the best way to hire executives for a startup?\"\nquery_vector = vector_db.embedding_model.get_embedding(test_query)\n\n# Test each distance metric\nprint(\"Comparing Distance Metrics for RAG Retrieval\")\nprint(\"=\" * 60)\nprint(f\"Query: {test_query}\\n\")\n\nfor metric_name, metric_func in list(DISTANCE_METRICS.items())[:5]:  # Test first 5 metrics\n    print(f\"\\n📊 Using {metric_name} distance:\")\n    \n    # Get top 3 results with this metric\n    results = vector_db.search(query_vector, k=3, distance_measure=metric_func)\n    \n    for i, (text, score) in enumerate(results, 1):\n        print(f\"\\n  {i}. Score: {score:.4f}\")\n        print(f\"     Preview: {text[:150]}...\")",
   "metadata": {},
   "outputs": []
  },
  {
   "cell_type": "markdown",
   "source": "### 🔍 Analysis: Distance Metrics Comparison\n\nNotice how different metrics produce different rankings:\n- **Cosine similarity**: Focuses on directional similarity (angle between vectors)\n- **Euclidean distance**: Measures absolute distance in vector space (note: negative values for sorting)\n- **Manhattan distance**: Sum of absolute differences (L1 norm)\n- **Dot product**: Similar to cosine but affected by vector magnitude\n- **Correlation**: Cosine similarity on mean-centered vectors",
   "metadata": {}
  },
  {
   "cell_type": "markdown",
   "source": "## 🏷️ Enhancement 3: Metadata Support\n\nReal-world RAG systems need to track metadata like source documents, timestamps, authors, and more. Let's implement an enhanced vector database with full metadata support.",
   "metadata": {}
  },
  {
   "cell_type": "code",
   "source": "# Import the enhanced vector database with metadata support\nfrom aimakerspace.enhanced_vectordatabase import EnhancedVectorDatabase\n\n# Create an enhanced database with metadata\nprint(\"Building Enhanced Vector Database with Metadata\")\nprint(\"=\" * 60)\n\nenhanced_db = EnhancedVectorDatabase(distance_metric=\"cosine\")\n\n# Prepare chunks with metadata\nmetadata_list = []\nfor i, chunk in enumerate(split_documents[:100]):  # Use first 100 chunks\n    metadata = {\n        \"source\": \"PMarcaBlogs.txt\",\n        \"chunk_id\": i,\n        \"total_chunks\": len(split_documents),\n        \"author\": \"Marc Andreessen\",\n        \"year\": 2007,  # Approximate year from the blog archives\n        \"topic\": \"startups\" if \"startup\" in chunk.lower() else \"business\",\n        \"has_executive_content\": \"executive\" in chunk.lower() or \"hiring\" in chunk.lower()\n    }\n    metadata_list.append(metadata)\n\n# Build the database\nenhanced_db = asyncio.run(enhanced_db.abuild_from_list(split_documents[:100], metadata_list))\n\n# Show database statistics\nstats = enhanced_db.get_statistics()\nprint(\"\\nDatabase Statistics:\")\nfor key, value in stats.items():\n    if isinstance(value, list) and len(value) > 5:\n        print(f\"  {key}: {value[:5]} ... (and {len(value)-5} more)\")\n    else:\n        print(f\"  {key}: {value}\")",
   "metadata": {},
   "outputs": []
  },
  {
   "cell_type": "code",
   "source": "# Demonstrate metadata filtering\nprint(\"\\n🔍 Metadata Filtering Examples\")\nprint(\"=\" * 60)\n\n# Filter 1: Only chunks about executives/hiring\nprint(\"\\n1. Filter: Chunks containing executive/hiring content\")\nexec_results = enhanced_db.search_by_text(\n    \"What are best practices for executives?\",\n    k=3,\n    metadata_filter={\"has_executive_content\": True}\n)\n\nfor i, (text, score, metadata) in enumerate(exec_results, 1):\n    print(f\"\\n  {i}. Chunk ID: {metadata['chunk_id']} (Score: {score:.4f})\")\n    print(f\"     Topic: {metadata['topic']}\")\n    print(f\"     Preview: {text[:100]}...\")\n\n# Filter 2: Only startup-related content\nprint(\"\\n\\n2. Filter: Only startup-related chunks\")\nstartup_results = enhanced_db.search_by_text(\n    \"How to build a successful company?\",\n    k=3,\n    metadata_filter={\"topic\": \"startups\"}\n)\n\nfor i, (text, score, metadata) in enumerate(startup_results, 1):\n    print(f\"\\n  {i}. Chunk ID: {metadata['chunk_id']} (Score: {score:.4f})\")\n    print(f\"     Has executive content: {metadata['has_executive_content']}\")\n    print(f\"     Preview: {text[:100]}...\")",
   "metadata": {},
   "outputs": []
  },
  {
   "cell_type": "markdown",
   "source": "### 🎯 Enhanced RAG with Source Attribution\n\nLet's create a RAG pipeline that includes metadata in responses for better transparency and source tracking:",
   "metadata": {}
  },
  {
   "cell_type": "code",
   "source": "# Create an enhanced RAG pipeline with metadata\nclass MetadataAwareRAGPipeline:\n    def __init__(self, llm, vector_db):\n        self.llm = llm\n        self.vector_db = vector_db\n        \n    def run_pipeline(self, user_query: str, k: int = 3, metadata_filter=None):\n        # Retrieve with metadata\n        results = self.vector_db.search_by_text(\n            user_query, \n            k=k, \n            metadata_filter=metadata_filter\n        )\n        \n        # Format context with source attribution\n        context_parts = []\n        sources_info = []\n        \n        for i, (text, score, metadata) in enumerate(results, 1):\n            # Create source citation\n            source_cite = f\"[{i}]\"\n            context_parts.append(f\"{source_cite} {text}\")\n            \n            # Track source information\n            sources_info.append({\n                \"id\": i,\n                \"source\": metadata['source'],\n                \"author\": metadata.get('author', 'Unknown'),\n                \"chunk_id\": metadata['chunk_id'],\n                \"score\": score\n            })\n        \n        # Create prompt with attribution requirement\n        system_prompt = SystemRolePrompt(\n            \"\"\"You are a knowledgeable assistant. Answer based on the provided context.\n            Include source citations [1], [2], etc. when referencing specific information.\"\"\"\n        )\n        \n        user_prompt = UserRolePrompt(\n            \"\"\"Context:\\n{context}\\n\\nQuestion: {query}\\n\\nAnswer with source citations:\"\"\"\n        )\n        \n        messages = [\n            system_prompt.create_message(),\n            user_prompt.create_message(\n                context=\"\\n\\n\".join(context_parts),\n                query=user_query\n            )\n        ]\n        \n        response = self.llm.run(messages)\n        \n        return {\n            \"answer\": response,\n            \"sources\": sources_info,\n            \"metadata_filter\": metadata_filter\n        }\n\n# Create the pipeline\nmetadata_rag = MetadataAwareRAGPipeline(chat_openai, enhanced_db)\n\n# Test with a query\nresult = metadata_rag.run_pipeline(\n    \"What advice does Marc Andreessen give about hiring executives?\",\n    k=4,\n    metadata_filter={\"has_executive_content\": True}\n)\n\nprint(\"🤖 Enhanced RAG Response with Metadata\")\nprint(\"=\" * 60)\nprint(f\"\\nAnswer:\\n{result['answer']}\")\nprint(f\"\\n📚 Sources Used:\")\nfor source in result['sources']:\n    print(f\"  [{source['id']}] {source['source']} - Chunk {source['chunk_id']} (Score: {source['score']:.3f})\")",
   "metadata": {},
   "outputs": []
  },
  {
   "cell_type": "markdown",
   "source": "## 📊 All Enhancements Summary\n\nWe've successfully implemented three major enhancements to our RAG system:\n\n### 1. **PDF Support** ✅\n- Universal document loader for text and PDF files\n- Page-aware extraction maintaining document structure\n- Seamless integration with existing pipeline\n\n### 2. **Multiple Distance Metrics** ✅\n- 8 different similarity measures (cosine, euclidean, manhattan, etc.)\n- Flexibility to choose the best metric for your use case\n- Easy comparison of retrieval quality\n\n### 3. **Metadata Support** ✅\n- Rich metadata storage (source, author, timestamps, custom fields)\n- Powerful filtering capabilities\n- Source attribution in responses\n- Better transparency and traceability\n\nThese enhancements make the RAG system production-ready with:\n- **Versatility**: Handle multiple document formats\n- **Flexibility**: Choose optimal similarity metrics\n- **Transparency**: Track sources and provide citations\n- **Scalability**: Filter large document collections efficiently",
   "metadata": {}
  }
 ],
 "metadata": {
  "colab": {
   "provenance": []
  },
  "kernelspec": {
   "display_name": "Python 3",
   "language": "python",
   "name": "python3"
  },
  "language_info": {
   "codemirror_mode": {
    "name": "ipython",
    "version": 3
   },
   "file_extension": ".py",
   "mimetype": "text/x-python",
   "name": "python",
   "nbconvert_exporter": "python",
   "pygments_lexer": "ipython3",
   "version": "3.12.5"
  },
  "orig_nbformat": 4,
  "widgets": {
   "application/vnd.jupyter.widget-state+json": {
    "1ce393d9afcf427d9d352259c5d32678": {
     "model_module": "@jupyter-widgets/controls",
     "model_module_version": "1.5.0",
     "model_name": "FloatProgressModel",
     "state": {
      "_dom_classes": [],
      "_model_module": "@jupyter-widgets/controls",
      "_model_module_version": "1.5.0",
      "_model_name": "FloatProgressModel",
      "_view_count": null,
      "_view_module": "@jupyter-widgets/controls",
      "_view_module_version": "1.5.0",
      "_view_name": "ProgressView",
      "bar_style": "",
      "description": "",
      "description_tooltip": null,
      "layout": "IPY_MODEL_4e6efd99f7d346e485b002fb0fa85cc7",
      "max": 1,
      "min": 0,
      "orientation": "horizontal",
      "style": "IPY_MODEL_3dfb67c39958461da6071e4c19c3fa41",
      "value": 1
     }
    },
    "3a4ba348cb004f8ab7b2b1395539c81b": {
     "model_module": "@jupyter-widgets/controls",
     "model_module_version": "1.5.0",
     "model_name": "LabelModel",
     "state": {
      "_dom_classes": [],
      "_model_module": "@jupyter-widgets/controls",
      "_model_module_version": "1.5.0",
      "_model_name": "LabelModel",
      "_view_count": null,
      "_view_module": "@jupyter-widgets/controls",
      "_view_module_version": "1.5.0",
      "_view_name": "LabelView",
      "description": "",
      "description_tooltip": null,
      "layout": "IPY_MODEL_d2ea5009dd16442cb5d8a0ac468e50a8",
      "placeholder": "​",
      "style": "IPY_MODEL_5f00135fe1044051a50ee5e841cbb8e3",
      "value": "0.018 MB of 0.018 MB uploaded\r"
     }
    },
    "3dfb67c39958461da6071e4c19c3fa41": {
     "model_module": "@jupyter-widgets/controls",
     "model_module_version": "1.5.0",
     "model_name": "ProgressStyleModel",
     "state": {
      "_model_module": "@jupyter-widgets/controls",
      "_model_module_version": "1.5.0",
      "_model_name": "ProgressStyleModel",
      "_view_count": null,
      "_view_module": "@jupyter-widgets/base",
      "_view_module_version": "1.2.0",
      "_view_name": "StyleView",
      "bar_color": null,
      "description_width": ""
     }
    },
    "4e6efd99f7d346e485b002fb0fa85cc7": {
     "model_module": "@jupyter-widgets/base",
     "model_module_version": "1.2.0",
     "model_name": "LayoutModel",
     "state": {
      "_model_module": "@jupyter-widgets/base",
      "_model_module_version": "1.2.0",
      "_model_name": "LayoutModel",
      "_view_count": null,
      "_view_module": "@jupyter-widgets/base",
      "_view_module_version": "1.2.0",
      "_view_name": "LayoutView",
      "align_content": null,
      "align_items": null,
      "align_self": null,
      "border": null,
      "bottom": null,
      "display": null,
      "flex": null,
      "flex_flow": null,
      "grid_area": null,
      "grid_auto_columns": null,
      "grid_auto_flow": null,
      "grid_auto_rows": null,
      "grid_column": null,
      "grid_gap": null,
      "grid_row": null,
      "grid_template_areas": null,
      "grid_template_columns": null,
      "grid_template_rows": null,
      "height": null,
      "justify_content": null,
      "justify_items": null,
      "left": null,
      "margin": null,
      "max_height": null,
      "max_width": null,
      "min_height": null,
      "min_width": null,
      "object_fit": null,
      "object_position": null,
      "order": null,
      "overflow": null,
      "overflow_x": null,
      "overflow_y": null,
      "padding": null,
      "right": null,
      "top": null,
      "visibility": null,
      "width": null
     }
    },
    "56a8e24025594e5e9ff3b8581c344691": {
     "model_module": "@jupyter-widgets/base",
     "model_module_version": "1.2.0",
     "model_name": "LayoutModel",
     "state": {
      "_model_module": "@jupyter-widgets/base",
      "_model_module_version": "1.2.0",
      "_model_name": "LayoutModel",
      "_view_count": null,
      "_view_module": "@jupyter-widgets/base",
      "_view_module_version": "1.2.0",
      "_view_name": "LayoutView",
      "align_content": null,
      "align_items": null,
      "align_self": null,
      "border": null,
      "bottom": null,
      "display": null,
      "flex": null,
      "flex_flow": null,
      "grid_area": null,
      "grid_auto_columns": null,
      "grid_auto_flow": null,
      "grid_auto_rows": null,
      "grid_column": null,
      "grid_gap": null,
      "grid_row": null,
      "grid_template_areas": null,
      "grid_template_columns": null,
      "grid_template_rows": null,
      "height": null,
      "justify_content": null,
      "justify_items": null,
      "left": null,
      "margin": null,
      "max_height": null,
      "max_width": null,
      "min_height": null,
      "min_width": null,
      "object_fit": null,
      "object_position": null,
      "order": null,
      "overflow": null,
      "overflow_x": null,
      "overflow_y": null,
      "padding": null,
      "right": null,
      "top": null,
      "visibility": null,
      "width": null
     }
    },
    "5f00135fe1044051a50ee5e841cbb8e3": {
     "model_module": "@jupyter-widgets/controls",
     "model_module_version": "1.5.0",
     "model_name": "DescriptionStyleModel",
     "state": {
      "_model_module": "@jupyter-widgets/controls",
      "_model_module_version": "1.5.0",
      "_model_name": "DescriptionStyleModel",
      "_view_count": null,
      "_view_module": "@jupyter-widgets/base",
      "_view_module_version": "1.2.0",
      "_view_name": "StyleView",
      "description_width": ""
     }
    },
    "bb904e05ece143c79ecc4f20de482f45": {
     "model_module": "@jupyter-widgets/controls",
     "model_module_version": "1.5.0",
     "model_name": "VBoxModel",
     "state": {
      "_dom_classes": [],
      "_model_module": "@jupyter-widgets/controls",
      "_model_module_version": "1.5.0",
      "_model_name": "VBoxModel",
      "_view_count": null,
      "_view_module": "@jupyter-widgets/controls",
      "_view_module_version": "1.5.0",
      "_view_name": "VBoxView",
      "box_style": "",
      "children": [
       "IPY_MODEL_3a4ba348cb004f8ab7b2b1395539c81b",
       "IPY_MODEL_1ce393d9afcf427d9d352259c5d32678"
      ],
      "layout": "IPY_MODEL_56a8e24025594e5e9ff3b8581c344691"
     }
    },
    "d2ea5009dd16442cb5d8a0ac468e50a8": {
     "model_module": "@jupyter-widgets/base",
     "model_module_version": "1.2.0",
     "model_name": "LayoutModel",
     "state": {
      "_model_module": "@jupyter-widgets/base",
      "_model_module_version": "1.2.0",
      "_model_name": "LayoutModel",
      "_view_count": null,
      "_view_module": "@jupyter-widgets/base",
      "_view_module_version": "1.2.0",
      "_view_name": "LayoutView",
      "align_content": null,
      "align_items": null,
      "align_self": null,
      "border": null,
      "bottom": null,
      "display": null,
      "flex": null,
      "flex_flow": null,
      "grid_area": null,
      "grid_auto_columns": null,
      "grid_auto_flow": null,
      "grid_auto_rows": null,
      "grid_column": null,
      "grid_gap": null,
      "grid_row": null,
      "grid_template_areas": null,
      "grid_template_columns": null,
      "grid_template_rows": null,
      "height": null,
      "justify_content": null,
      "justify_items": null,
      "left": null,
      "margin": null,
      "max_height": null,
      "max_width": null,
      "min_height": null,
      "min_width": null,
      "object_fit": null,
      "object_position": null,
      "order": null,
      "overflow": null,
      "overflow_x": null,
      "overflow_y": null,
      "padding": null,
      "right": null,
      "top": null,
      "visibility": null,
      "width": null
     }
    }
   }
  }
 },
 "nbformat": 4,
 "nbformat_minor": 0
}